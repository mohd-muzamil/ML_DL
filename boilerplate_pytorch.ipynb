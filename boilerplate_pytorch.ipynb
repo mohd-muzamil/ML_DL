{
  "nbformat": 4,
  "nbformat_minor": 0,
  "metadata": {
    "colab": {
      "provenance": [],
      "collapsed_sections": [],
      "authorship_tag": "ABX9TyMhQYtKw4lk74IKjBmUEopF",
      "include_colab_link": true
    },
    "kernelspec": {
      "name": "python3",
      "display_name": "Python 3"
    },
    "language_info": {
      "name": "python"
    }
  },
  "cells": [
    {
      "cell_type": "markdown",
      "metadata": {
        "id": "view-in-github",
        "colab_type": "text"
      },
      "source": [
        "<a href=\"https://colab.research.google.com/github/mohd-muzamil/ML_DL/blob/main/boilerplate_pytorch.ipynb\" target=\"_parent\"><img src=\"https://colab.research.google.com/assets/colab-badge.svg\" alt=\"Open In Colab\"/></a>"
      ]
    },
    {
      "cell_type": "markdown",
      "source": [
        "This Script contains the broiler code to train Deep Learning models using Pytorch"
      ],
      "metadata": {
        "id": "aLeCmue91hCt"
      }
    },
    {
      "cell_type": "code",
      "source": [
        "#Imports\n",
        "import torch\n",
        "from torch import nn\n",
        "from torch.utils.data import DataLoader\n",
        "from torchvision import datasets\n",
        "from torchvision.transforms import ToTensor"
      ],
      "metadata": {
        "id": "X-sxCVtv2FXy"
      },
      "execution_count": 15,
      "outputs": []
    },
    {
      "cell_type": "markdown",
      "source": [
        " #### Steps\n",
        "1. download train-test data\n",
        "1. create dataloaders\n",
        "1. create Models\n",
        "1. train-test methods\n",
        "1. model training\n",
        "1. model testing and model evaluation\n",
        "1. model save"
      ],
      "metadata": {
        "id": "gaqUlXQp5IpR"
      }
    },
    {
      "cell_type": "code",
      "source": [
        "# Download training data from open datasets.\n",
        "training_data = datasets.FashionMNIST(\n",
        "    root=\"data\",\n",
        "    train=True,\n",
        "    download=True,\n",
        "    transform=ToTensor(),\n",
        ")\n",
        "\n",
        "# Download test data from open datasets.\n",
        "test_data = datasets.FashionMNIST(\n",
        "    root=\"data\",\n",
        "    train=False,\n",
        "    download=True,\n",
        "    transform=ToTensor(),\n",
        ")"
      ],
      "metadata": {
        "id": "5Zxu46kD2xNg"
      },
      "execution_count": 16,
      "outputs": []
    },
    {
      "cell_type": "code",
      "source": [
        "batch_size = 64\n",
        "\n",
        "# Create data loaders.\n",
        "train_dataloader = DataLoader(training_data, batch_size=batch_size)\n",
        "test_dataloader = DataLoader(test_data, batch_size=batch_size)\n",
        "\n",
        "print(\"Train Data: \", training_data)\n",
        "print(f\"\\nShape of train dataset: [batch_size:{batch_size}, No of batches:{len(train_dataloader)}]\")\n",
        "print(\"\\nTest Data: \", test_data)\n",
        "print(f\"\\nShape of test dataset: [batch_size:{batch_size}, No of batches:{len(test_dataloader)}\\n\")\n",
        "\n",
        "print(\"Data in a Single batch:\")\n",
        "for X, y in test_dataloader:\n",
        "    print(f\"Shape of X [N, C, H, W]: {X.shape}\")\n",
        "    print(f\"Shape of y: {y.shape} {y.dtype}\")\n",
        "    break"
      ],
      "metadata": {
        "colab": {
          "base_uri": "https://localhost:8080/"
        },
        "id": "Cce3PzyN26Jt",
        "outputId": "4a12ffb4-6e30-4e74-9658-1005c4baccd3"
      },
      "execution_count": 17,
      "outputs": [
        {
          "output_type": "stream",
          "name": "stdout",
          "text": [
            "Train Data:  Dataset FashionMNIST\n",
            "    Number of datapoints: 60000\n",
            "    Root location: data\n",
            "    Split: Train\n",
            "    StandardTransform\n",
            "Transform: ToTensor()\n",
            "\n",
            "Shape of train dataset: [batch_size:64, No of batches:938]\n",
            "\n",
            "Test Data:  Dataset FashionMNIST\n",
            "    Number of datapoints: 10000\n",
            "    Root location: data\n",
            "    Split: Test\n",
            "    StandardTransform\n",
            "Transform: ToTensor()\n",
            "\n",
            "Shape of test dataset: [batch_size:64, No of batches:157\n",
            "\n",
            "Data in a Single batch:\n",
            "Shape of X [N, C, H, W]: torch.Size([64, 1, 28, 28])\n",
            "Shape of y: torch.Size([64]) torch.int64\n"
          ]
        }
      ]
    },
    {
      "cell_type": "code",
      "source": [
        "# Get cpu or gpu device for training.\n",
        "device = \"cuda\" if torch.cuda.is_available() else \"cpu\"\n",
        "print(f\"Using {device} device\")\n",
        "\n",
        "# Define model\n",
        "class NeuralNetwork(nn.Module):\n",
        "    def __init__(self):\n",
        "        super().__init__()\n",
        "        self.flatten = nn.Flatten()\n",
        "        self.linear_relu_stack = nn.Sequential(\n",
        "            nn.Linear(28*28, 512),\n",
        "            nn.ReLU(),\n",
        "            nn.Linear(512, 512),\n",
        "            nn.ReLU(),\n",
        "            nn.Linear(512, 10)\n",
        "        )\n",
        "\n",
        "    def forward(self, x):\n",
        "        x = self.flatten(x)\n",
        "        logits = self.linear_relu_stack(x)\n",
        "        return logits\n",
        "\n",
        "model = NeuralNetwork().to(device)\n",
        "print(model)"
      ],
      "metadata": {
        "colab": {
          "base_uri": "https://localhost:8080/"
        },
        "id": "kZvjAUj13LTe",
        "outputId": "0c4c8f3a-3996-4766-a6b4-7d5831c8ae95"
      },
      "execution_count": 18,
      "outputs": [
        {
          "output_type": "stream",
          "name": "stdout",
          "text": [
            "Using cpu device\n",
            "NeuralNetwork(\n",
            "  (flatten): Flatten(start_dim=1, end_dim=-1)\n",
            "  (linear_relu_stack): Sequential(\n",
            "    (0): Linear(in_features=784, out_features=512, bias=True)\n",
            "    (1): ReLU()\n",
            "    (2): Linear(in_features=512, out_features=512, bias=True)\n",
            "    (3): ReLU()\n",
            "    (4): Linear(in_features=512, out_features=10, bias=True)\n",
            "  )\n",
            ")\n"
          ]
        }
      ]
    },
    {
      "cell_type": "code",
      "source": [
        "# Loss function and optimizer\n",
        "loss_fn = nn.CrossEntropyLoss()\n",
        "optimizer = torch.optim.SGD(model.parameters(), lr=1e-3)"
      ],
      "metadata": {
        "id": "2z0kJUrq4LX8"
      },
      "execution_count": 19,
      "outputs": []
    },
    {
      "cell_type": "code",
      "source": [
        "def train(dataloader, model, loss_fn, optimizer):\n",
        "    size = len(dataloader.dataset)\n",
        "    model.train()\n",
        "    for batch, (X, y) in enumerate(dataloader):\n",
        "        X, y = X.to(device), y.to(device)\n",
        "\n",
        "        # Compute prediction error\n",
        "        pred = model(X)\n",
        "        loss = loss_fn(pred, y)\n",
        "\n",
        "        # Backpropagation\n",
        "        optimizer.zero_grad()\n",
        "        loss.backward()\n",
        "        optimizer.step()\n",
        "\n",
        "        if batch % 100 == 0:\n",
        "            loss, current = loss.item(), batch * len(X)\n",
        "            print(f\"loss: {loss:>7f}  [{current:>5d}/{size:>5d}]\")"
      ],
      "metadata": {
        "id": "6drTjbHb6lLm"
      },
      "execution_count": 20,
      "outputs": []
    },
    {
      "cell_type": "code",
      "source": [
        "def test(dataloader, model, loss_fn):\n",
        "    size = len(dataloader.dataset)\n",
        "    num_batches = len(dataloader)\n",
        "    model.eval()\n",
        "    test_loss, correct = 0, 0\n",
        "    with torch.no_grad():\n",
        "        for X, y in dataloader:\n",
        "            X, y = X.to(device), y.to(device)\n",
        "            pred = model(X)\n",
        "            test_loss += loss_fn(pred, y).item()\n",
        "            correct += (pred.argmax(1) == y).type(torch.float).sum().item()\n",
        "    test_loss /= num_batches\n",
        "    correct /= size\n",
        "    print(f\"Test Error: \\n Accuracy: {(100*correct):>0.1f}%, Avg loss: {test_loss:>8f} \\n\")"
      ],
      "metadata": {
        "id": "VkS0pLWm6nwl"
      },
      "execution_count": 21,
      "outputs": []
    },
    {
      "cell_type": "code",
      "source": [
        "# training\n",
        "epochs = 5\n",
        "for t in range(epochs):\n",
        "    print(f\"Epoch {t+1}\\n-------------------------------\")\n",
        "    train(train_dataloader, model, loss_fn, optimizer)\n",
        "    test(test_dataloader, model, loss_fn)\n",
        "print(\"Done!\")"
      ],
      "metadata": {
        "colab": {
          "base_uri": "https://localhost:8080/"
        },
        "id": "6xNS0DUk6pN6",
        "outputId": "5ca4571d-a9fe-4b6b-f2a3-f04d1437526f"
      },
      "execution_count": 22,
      "outputs": [
        {
          "output_type": "stream",
          "name": "stdout",
          "text": [
            "Epoch 1\n",
            "-------------------------------\n",
            "loss: 2.295050  [    0/60000]\n",
            "loss: 2.277929  [ 6400/60000]\n",
            "loss: 2.262930  [12800/60000]\n",
            "loss: 2.264566  [19200/60000]\n",
            "loss: 2.240314  [25600/60000]\n",
            "loss: 2.221179  [32000/60000]\n",
            "loss: 2.230494  [38400/60000]\n",
            "loss: 2.196205  [44800/60000]\n",
            "loss: 2.194537  [51200/60000]\n",
            "loss: 2.168874  [57600/60000]\n",
            "Test Error: \n",
            " Accuracy: 47.7%, Avg loss: 2.151086 \n",
            "\n",
            "Epoch 2\n",
            "-------------------------------\n",
            "loss: 2.158328  [    0/60000]\n",
            "loss: 2.141770  [ 6400/60000]\n",
            "loss: 2.089203  [12800/60000]\n",
            "loss: 2.111807  [19200/60000]\n",
            "loss: 2.055007  [25600/60000]\n",
            "loss: 2.002734  [32000/60000]\n",
            "loss: 2.033614  [38400/60000]\n",
            "loss: 1.951588  [44800/60000]\n",
            "loss: 1.960531  [51200/60000]\n",
            "loss: 1.893380  [57600/60000]\n",
            "Test Error: \n",
            " Accuracy: 55.6%, Avg loss: 1.878567 \n",
            "\n",
            "Epoch 3\n",
            "-------------------------------\n",
            "loss: 1.907865  [    0/60000]\n",
            "loss: 1.872892  [ 6400/60000]\n",
            "loss: 1.761781  [12800/60000]\n",
            "loss: 1.806778  [19200/60000]\n",
            "loss: 1.696354  [25600/60000]\n",
            "loss: 1.647940  [32000/60000]\n",
            "loss: 1.672349  [38400/60000]\n",
            "loss: 1.568525  [44800/60000]\n",
            "loss: 1.601705  [51200/60000]\n",
            "loss: 1.501850  [57600/60000]\n",
            "Test Error: \n",
            " Accuracy: 60.4%, Avg loss: 1.506680 \n",
            "\n",
            "Epoch 4\n",
            "-------------------------------\n",
            "loss: 1.571625  [    0/60000]\n",
            "loss: 1.534204  [ 6400/60000]\n",
            "loss: 1.389885  [12800/60000]\n",
            "loss: 1.462952  [19200/60000]\n",
            "loss: 1.349767  [25600/60000]\n",
            "loss: 1.340486  [32000/60000]\n",
            "loss: 1.354271  [38400/60000]\n",
            "loss: 1.276376  [44800/60000]\n",
            "loss: 1.318053  [51200/60000]\n",
            "loss: 1.228410  [57600/60000]\n",
            "Test Error: \n",
            " Accuracy: 63.0%, Avg loss: 1.241700 \n",
            "\n",
            "Epoch 5\n",
            "-------------------------------\n",
            "loss: 1.314407  [    0/60000]\n",
            "loss: 1.296947  [ 6400/60000]\n",
            "loss: 1.135795  [12800/60000]\n",
            "loss: 1.243263  [19200/60000]\n",
            "loss: 1.123039  [25600/60000]\n",
            "loss: 1.142336  [32000/60000]\n",
            "loss: 1.161992  [38400/60000]\n",
            "loss: 1.097310  [44800/60000]\n",
            "loss: 1.142317  [51200/60000]\n",
            "loss: 1.069693  [57600/60000]\n",
            "Test Error: \n",
            " Accuracy: 64.6%, Avg loss: 1.078166 \n",
            "\n",
            "Done!\n"
          ]
        }
      ]
    },
    {
      "cell_type": "code",
      "source": [
        "# model save\n",
        "torch.save(model.state_dict(), \"model.pth\")\n",
        "print(\"Saved PyTorch Model State to model.pth\")"
      ],
      "metadata": {
        "id": "MO9-puut6t4X",
        "colab": {
          "base_uri": "https://localhost:8080/"
        },
        "outputId": "ff34e334-0ebe-40e5-9151-4c29ac9b9d1f"
      },
      "execution_count": 23,
      "outputs": [
        {
          "output_type": "stream",
          "name": "stdout",
          "text": [
            "Saved PyTorch Model State to model.pth\n"
          ]
        }
      ]
    },
    {
      "cell_type": "code",
      "source": [
        "# model evaluate\n",
        "classes = [\n",
        "    \"T-shirt/top\",\n",
        "    \"Trouser\",\n",
        "    \"Pullover\",\n",
        "    \"Dress\",\n",
        "    \"Coat\",\n",
        "    \"Sandal\",\n",
        "    \"Shirt\",\n",
        "    \"Sneaker\",\n",
        "    \"Bag\",\n",
        "    \"Ankle boot\",\n",
        "]\n",
        "\n",
        "model.eval()\n",
        "x, y = test_data[0][0], test_data[0][1]\n",
        "with torch.no_grad():\n",
        "    pred = model(x)\n",
        "    predicted, actual = classes[pred[0].argmax(0)], classes[y]\n",
        "    print(f'Predicted: \"{predicted}\", Actual: \"{actual}\"')"
      ],
      "metadata": {
        "id": "iUz-I2nX6zXf",
        "colab": {
          "base_uri": "https://localhost:8080/"
        },
        "outputId": "6a9b26ed-3ea5-4162-fa3d-874bbe033f53"
      },
      "execution_count": 24,
      "outputs": [
        {
          "output_type": "stream",
          "name": "stdout",
          "text": [
            "Predicted: \"Ankle boot\", Actual: \"Ankle boot\"\n"
          ]
        }
      ]
    }
  ]
}