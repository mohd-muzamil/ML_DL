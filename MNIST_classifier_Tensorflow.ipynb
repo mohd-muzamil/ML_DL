{
  "nbformat": 4,
  "nbformat_minor": 0,
  "metadata": {
    "colab": {
      "name": "MNIST_classifier_Tensorflow.ipynb",
      "provenance": [],
      "authorship_tag": "ABX9TyOedZdCc2NqTYopsPfwH/sh",
      "include_colab_link": true
    },
    "kernelspec": {
      "name": "python3",
      "display_name": "Python 3"
    },
    "language_info": {
      "name": "python"
    }
  },
  "cells": [
    {
      "cell_type": "markdown",
      "metadata": {
        "id": "view-in-github",
        "colab_type": "text"
      },
      "source": [
        "<a href=\"https://colab.research.google.com/github/mohd-muzamil/ML_DL/blob/main/MNIST_classifier_Tensorflow.ipynb\" target=\"_parent\"><img src=\"https://colab.research.google.com/assets/colab-badge.svg\" alt=\"Open In Colab\"/></a>"
      ]
    },
    {
      "cell_type": "markdown",
      "source": [
        "## MNIST classifer using Tensorflow"
      ],
      "metadata": {
        "id": "78tkyLZFhlvB"
      }
    }
  ]
}