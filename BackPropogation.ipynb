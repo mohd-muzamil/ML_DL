{
  "nbformat": 4,
  "nbformat_minor": 0,
  "metadata": {
    "colab": {
      "name": "BackPropogation.ipynb",
      "provenance": [],
      "collapsed_sections": [],
      "authorship_tag": "ABX9TyP9j3ngwik+Z+VtT1SW1ly5",
      "include_colab_link": true
    },
    "kernelspec": {
      "name": "python3",
      "display_name": "Python 3"
    }
  },
  "cells": [
    {
      "cell_type": "markdown",
      "metadata": {
        "id": "view-in-github",
        "colab_type": "text"
      },
      "source": [
        "<a href=\"https://colab.research.google.com/github/mohd-muzamil/Deep-Learning/blob/main/BackPropogation.ipynb\" target=\"_parent\"><img src=\"https://colab.research.google.com/assets/colab-badge.svg\" alt=\"Open In Colab\"/></a>"
      ]
    },
    {
      "cell_type": "markdown",
      "metadata": {
        "id": "NAqcXePV7JVG"
      },
      "source": [
        ""
      ]
    },
    {
      "cell_type": "code",
      "metadata": {
        "id": "f03_FBSQ_oRM"
      },
      "source": [
        "from sklearn import datasets\r\n",
        "import numpy as np\r\n",
        "import matplotlib.pyplot as plt\r\n",
        "from sklearn.metrics import accuracy_score"
      ],
      "execution_count": 1,
      "outputs": []
    },
    {
      "cell_type": "code",
      "metadata": {
        "id": "iaOWTF7L28AV"
      },
      "source": [
        "from sklearn.model_selection import train_test_split\r\n",
        "from sklearn.preprocessing import OneHotEncoder, StandardScaler\r\n",
        "\r\n",
        "dataset = datasets.load_breast_cancer()\r\n",
        "x = dataset['data']\r\n",
        "y = dataset['target']\r\n",
        "\r\n",
        "# One hot encoding\r\n",
        "enc = OneHotEncoder()\r\n",
        "y = enc.fit_transform(y[:, np.newaxis]).toarray()\r\n",
        "\r\n",
        "# Scale data to have mean 0 and variance 1 \r\n",
        "# which is importance for convergence of the neural network\r\n",
        "scaler = StandardScaler()\r\n",
        "x_scaled = scaler.fit_transform(x)\r\n",
        "\r\n",
        "# Split the data set into training and testing\r\n",
        "x_train, x_test, y_train, y_test = train_test_split(x_scaled, y, test_size=0.5, random_state=2)\r\n",
        "\r\n",
        "n_features = x.shape[1]\r\n",
        "n_classes = y.shape[1]"
      ],
      "execution_count": 2,
      "outputs": []
    },
    {
      "cell_type": "code",
      "metadata": {
        "id": "PqA59eaWBE2r"
      },
      "source": [
        "# # data, target = datasets.load_breast_cancer(return_X_y=True)   #Breast Cancer dataset\r\n",
        "# data, target = datasets.load_iris(return_X_y=True)   #MNIST Dataset\r\n",
        "# np.random.shuffle(data)\r\n",
        "# np.random.shuffle(target)"
      ],
      "execution_count": 3,
      "outputs": []
    },
    {
      "cell_type": "code",
      "metadata": {
        "id": "bI2nWIRO7mvn"
      },
      "source": [
        "# def one_hot_y(Y):\r\n",
        "#   one_hot_size = max(Y) + 1\r\n",
        "#   Y = Y.astype(np.int64)\r\n",
        "#   one_hot = np.zeros((Y.size, one_hot_size))\r\n",
        "#   one_hot[np.arange(Y.size), Y] = 1\r\n",
        "#   # one_hot = one_hot.T\r\n",
        "#   return one_hot"
      ],
      "execution_count": 4,
      "outputs": []
    },
    {
      "cell_type": "code",
      "metadata": {
        "id": "PaaqHcSN8SKH"
      },
      "source": [
        "# m, n = data.shape[0], data.shape[1]\r\n",
        "# split = int(0.9 * m)\r\n",
        "\r\n",
        "# x_train = data[0:split]\r\n",
        "# y_train = target[0:split]\r\n",
        "\r\n",
        "# x_test = data[split:m]\r\n",
        "# y_test = target[split:m]\r\n",
        "\r\n",
        "# print(x_train.shape, y_train.shape, x_test.shape, y_test.shape)"
      ],
      "execution_count": 5,
      "outputs": []
    },
    {
      "cell_type": "code",
      "metadata": {
        "id": "0grtbM7tKqx9"
      },
      "source": [
        "def activation_function(activation, x):\r\n",
        "  activation = str.lower(activation)\r\n",
        "  if activation == 'sigmoid':\r\n",
        "    out = 1 / (1 + np.exp(-x))\r\n",
        "\r\n",
        "  elif activation == 'relu':\r\n",
        "    out = np.maximum(0, x)\r\n",
        "\r\n",
        "  elif activation == 'softmax':\r\n",
        "    out = np.exp(x) / (sum(np.exp(x)+10e-10))\r\n",
        "\r\n",
        "  elif activation == 'linear':\r\n",
        "    out = x\r\n",
        "  return out"
      ],
      "execution_count": 6,
      "outputs": []
    },
    {
      "cell_type": "code",
      "metadata": {
        "id": "_ibyFeKxY0QM"
      },
      "source": [
        "def deriv_activation(activation, x):\r\n",
        "  activation = str.lower(activation)\r\n",
        "  if activation == 'sigmoid':\r\n",
        "    out = 1 / (1 + np.exp(-x))\r\n",
        "    grad = out * (1 - out)\r\n",
        "\r\n",
        "  elif activation == 'relu':\r\n",
        "    # grad = np.asarray([1 if val>0 else 0 for val in x])\r\n",
        "    grad = x>0\r\n",
        "\r\n",
        "  elif activation == 'linear':\r\n",
        "    grad = 1\r\n",
        "  \r\n",
        "  return grad\r\n",
        "  # return np.expand_dims(grad, axis=1)"
      ],
      "execution_count": 7,
      "outputs": []
    },
    {
      "cell_type": "code",
      "metadata": {
        "id": "HnOMjP36BodS"
      },
      "source": [
        "class model():\r\n",
        "  def __init__(self, layers_size, activation):\r\n",
        "    self.layers_size = layers_size\r\n",
        "    self.activation = activation\r\n",
        "    self.weights = []\r\n",
        "    self.bais = []\r\n",
        "\r\n",
        "    for layer in zip(layers_size, layers_size[1:]):\r\n",
        "      self.weights.append(np.random.randn(layer[1], layer[0]) / np.sqrt(layer[0]))\r\n",
        "      self.bais.append(np.random.randn(layer[1], 1))\r\n",
        "\r\n",
        "  def forward_pass(self, x):\r\n",
        "    self.inputs = []\r\n",
        "    self.outputs = []\r\n",
        "    # print(f'Forward Pass')\r\n",
        "\r\n",
        "    x = np.expand_dims(x, axis=1)  #only for batch_size = 1\r\n",
        "\r\n",
        "    for layer in range(len(self.layers_size)-1):\r\n",
        "      # print(f'x{x.shape}')\r\n",
        "      self.outputs.append(x)\r\n",
        "\r\n",
        "      W = self.weights[layer]\r\n",
        "      B = self.bais[layer]\r\n",
        "      # print(f'layer{layer} W{W.shape} @ x{x.shape} + b{B.shape}')\r\n",
        "      Z = W @ x + B\r\n",
        "      A = activation_function(self.activation[layer], Z)\r\n",
        "      # print(f'Z{Z}\\nA{A}')\r\n",
        "\r\n",
        "      self.inputs.append(Z)\r\n",
        "      x = A\r\n",
        "\r\n",
        "    # for layer,(i,o) in enumerate(zip(self.inputs, self.outputs)):\r\n",
        "    #   print(f'Z{layer}{i.shape} A{layer}{o.shape}')\r\n",
        "    return A\r\n",
        "\r\n",
        "  def backward_pass(self, dZ, batch_size=1, learning_rate=0.01):\r\n",
        "    # print(\"Backward Pass\")\r\n",
        "    for layer in reversed(range(len(self.layers_size)-1)):\r\n",
        "      # print(f'layer{layer}')\r\n",
        "      \r\n",
        "      # print(f'dZ{dZ.shape} @ A.T{self.outputs[layer].T.shape})')\r\n",
        "      dW = 1/batch_size * dZ @ self.outputs[layer].T\r\n",
        "      # dB = 1/batch_size * np.sum(dZ)\r\n",
        "      dB = 1/batch_size * dZ @ np.ones((batch_size,1))\r\n",
        "      # print(f'Updating delta dZ............')\r\n",
        "      # print(f'W.T{self.weights[layer].T.shape} @ dZ{dZ.shape} * g`(Z{layer-1}{self.inputs[layer-1].shape})')\r\n",
        "      \r\n",
        "      if layer!=0:\r\n",
        "        # print(f'{deriv_activation(activation=self.activation[layer-1],x=self.inputs[layer-1]).shape}')\r\n",
        "        dZ = self.weights[layer].T @ dZ * deriv_activation(activation=self.activation[layer-1],x=self.inputs[layer-1])\r\n",
        "      \r\n",
        "      # print(f'new delta dZ{dZ.shape}')\r\n",
        "      # print(f'dW{dW.shape} dB{dB.shape}')\r\n",
        "      self.weights[layer] -= learning_rate * dW \r\n",
        "      self.bais[layer] -= learning_rate * dB "
      ],
      "execution_count": 8,
      "outputs": []
    },
    {
      "cell_type": "code",
      "metadata": {
        "id": "CkAJYG42fjui"
      },
      "source": [
        "def get_accuracy():\r\n",
        "  predictions = []\r\n",
        "  Y = []\r\n",
        "  for x, y in zip(x_test, y_test):\r\n",
        "    ypred = MLP.forward_pass(x).argmax()\r\n",
        "    predictions.append(ypred)\r\n",
        "    Y.append(y.argmax())\r\n",
        "\r\n",
        "  # accuracy_score = np.sum(predictions == Y) / Y.size\r\n",
        "  accuracy = accuracy_score(Y, predictions)\r\n",
        "  return round(accuracy, 4)"
      ],
      "execution_count": 9,
      "outputs": []
    },
    {
      "cell_type": "code",
      "metadata": {
        "id": "jXFyBTyumD8y"
      },
      "source": [
        "def cross_entropy(predictions, targets, epsilon=1e-12):\r\n",
        "    \"\"\"\r\n",
        "    Computes cross entropy between targets (encoded as one-hot vectors)\r\n",
        "    and predictions. \r\n",
        "    Input: predictions (N, k) ndarray\r\n",
        "           targets (N, k) ndarray        \r\n",
        "    Returns: scalar\r\n",
        "    \"\"\"\r\n",
        "    predictions = np.clip(predictions, epsilon, 1. - epsilon)\r\n",
        "    N = predictions.shape[0]\r\n",
        "    ce = -np.sum(targets*np.log(predictions+1e-9))/N\r\n",
        "    return ce"
      ],
      "execution_count": 10,
      "outputs": []
    },
    {
      "cell_type": "code",
      "metadata": {
        "colab": {
          "base_uri": "https://localhost:8080/"
        },
        "id": "1K9AlI_TBmuT",
        "outputId": "8c9b48cd-938d-4bdf-f804-9aa5c50da1f7"
      },
      "source": [
        "input_size = x_train.shape[1]\r\n",
        "output_size = y_train.shape[1]\r\n",
        "\r\n",
        "layers_size = [input_size, 8, 8, output_size]\r\n",
        "activation = []\r\n",
        "for layer in range(len(layers_size)-2):\r\n",
        "  activation.append('relu')\r\n",
        "activation.append('softmax')\r\n",
        "\r\n",
        "print(layers_size, activation)"
      ],
      "execution_count": 11,
      "outputs": [
        {
          "output_type": "stream",
          "text": [
            "[30, 8, 8, 2] ['relu', 'relu', 'softmax']\n"
          ],
          "name": "stdout"
        }
      ]
    },
    {
      "cell_type": "code",
      "metadata": {
        "colab": {
          "base_uri": "https://localhost:8080/",
          "height": 372
        },
        "id": "CzGzFIv2Fr6U",
        "outputId": "077b7c86-6b29-4807-8fdd-7e06bf5da8ff"
      },
      "source": [
        "MLP = model(layers_size, activation)\r\n",
        "#Training the model using Cross Entropy loss\r\n",
        "\r\n",
        "epocs = 10\r\n",
        "learning_rate = 0.1\r\n",
        "overall_loss = []\r\n",
        "overall_accuracy = []\r\n",
        "for epoc in range(epocs):\r\n",
        "  loss = []\r\n",
        "  for count, (datum, y) in enumerate(zip(x_train, y_train)):\r\n",
        "    # ypred = np.squeeze(MLP.forward_pass(datum.T))\r\n",
        "    ypred = MLP.forward_pass(datum.T)\r\n",
        "\r\n",
        "    # print('*********************')\r\n",
        "    # loss.append(0.5 * np.sum((ypred - one_hot_y(y))**2))\r\n",
        "    l = cross_entropy(ypred, y)\r\n",
        "    loss.append(l)\r\n",
        "    y = np.expand_dims(y, 1)\r\n",
        "    # print(f'ypred{ypred.shape} y{y.shape}')\r\n",
        "    # print(f'ypred_val{ypred} y_val{(y)}')\r\n",
        "    dZ = (ypred - y)\r\n",
        "    # print(f'dZ{dZ} {dZ.shape}')\r\n",
        "    # if count%100==0:\r\n",
        "    #   print('*********************')\r\n",
        "    #   print(f'Actual Value:{y} Predicted Value: {ypred}')\r\n",
        "    #   print(f'loss {round(loss[-1], 4)}, dZ{dZ}')\r\n",
        "    MLP.backward_pass(dZ, learning_rate=learning_rate)\r\n",
        "\r\n",
        "  \r\n",
        "  agg_loss = np.mean(loss)\r\n",
        "  overall_loss.append(agg_loss)\r\n",
        "  # ypred  = MLP.predict(x_test.T)\r\n",
        "  accuracy = get_accuracy()\r\n",
        "  overall_accuracy.append(accuracy)\r\n",
        "  if epoc%2==0:\r\n",
        "    print(f'epoc: {epoc} Training loss: {round(agg_loss, 4)} Test Accuracy: {accuracy}') \r\n",
        "    learning_rate *= 0.75\r\n",
        "\r\n",
        "plt.subplot(2,1,1)\r\n",
        "plt.plot(overall_loss)\r\n",
        "plt.subplot(2,1,2)\r\n",
        "plt.plot(overall_accuracy)\r\n",
        "plt.show"
      ],
      "execution_count": 12,
      "outputs": [
        {
          "output_type": "stream",
          "text": [
            "epoc: 0 Training loss: 2.5037 Test Accuracy: 0.9333\n",
            "epoc: 2 Training loss: 4.7255 Test Accuracy: 0.9579\n",
            "epoc: 4 Training loss: 6.1514 Test Accuracy: 0.9649\n",
            "epoc: 6 Training loss: 6.553 Test Accuracy: 0.9614\n",
            "epoc: 8 Training loss: 6.8747 Test Accuracy: 0.9649\n"
          ],
          "name": "stdout"
        },
        {
          "output_type": "execute_result",
          "data": {
            "text/plain": [
              "<function matplotlib.pyplot.show>"
            ]
          },
          "metadata": {
            "tags": []
          },
          "execution_count": 12
        },
        {
          "output_type": "display_data",
          "data": {
            "image/png": "[encoded data removed]",
            "text/plain": [
              "<Figure size 432x288 with 2 Axes>"
            ]
          },
          "metadata": {
            "tags": [],
            "needs_background": "light"
          }
        }
      ]
    },
    {
      "cell_type": "code",
      "metadata": {
        "colab": {
          "base_uri": "https://localhost:8080/"
        },
        "id": "JypbvTqqrb32",
        "outputId": "7b398d2a-a2e7-4bd3-8915-5a1dac4cf5da"
      },
      "source": [
        "#Keras implentation for Cross checking the results\r\n",
        "from keras.models import Sequential\r\n",
        "from keras.layers import Dense\r\n",
        "\r\n",
        "model = Sequential()\r\n",
        "def add_layer(hidden_nodes, n_in, activation):\r\n",
        "  model.add(Dense(hidden_nodes, input_dim=n_in, activation=activation))\r\n",
        "\r\n",
        "for layer in range(len(layers_size)-2):\r\n",
        "  add_layer(layers_size[layer+1], layers_size[layer], activation=activation[layer])\r\n",
        "\r\n",
        "model.add(Dense(layers_size[-1], activation=activation[-1]))\r\n",
        "model.compile(loss='categorical_crossentropy', optimizer='adam', metrics=['accuracy'])\r\n",
        "\r\n",
        "model.summary()\r\n"
      ],
      "execution_count": 13,
      "outputs": [
        {
          "output_type": "stream",
          "text": [
            "Model: \"sequential\"\n",
            "_________________________________________________________________\n",
            "Layer (type)                 Output Shape              Param #   \n",
            "=================================================================\n",
            "dense (Dense)                (None, 8)                 248       \n",
            "_________________________________________________________________\n",
            "dense_1 (Dense)              (None, 8)                 72        \n",
            "_________________________________________________________________\n",
            "dense_2 (Dense)              (None, 2)                 18        \n",
            "=================================================================\n",
            "Total params: 338\n",
            "Trainable params: 338\n",
            "Non-trainable params: 0\n",
            "_________________________________________________________________\n"
          ],
          "name": "stdout"
        }
      ]
    },
    {
      "cell_type": "code",
      "metadata": {
        "id": "STtTPJtkwveP"
      },
      "source": [
        "# #Dependencies\r\n",
        "# import keras\r\n",
        "# from keras.models import Sequential\r\n",
        "# from keras.layers import Dense\r\n",
        "# # Neural network\r\n",
        "# model = Sequential()\r\n",
        "# model.add(Dense(8, input_dim=4, activation='relu'))\r\n",
        "# model.add(Dense(8, activation='relu'))\r\n",
        "# model.add(Dense(3, activation='softmax'))\r\n",
        "\r\n",
        "# model.compile(loss='categorical_crossentropy', optimizer='adam', metrics=['accuracy'])"
      ],
      "execution_count": 14,
      "outputs": []
    },
    {
      "cell_type": "code",
      "metadata": {
        "colab": {
          "base_uri": "https://localhost:8080/"
        },
        "id": "-FsvP2MCw5HU",
        "outputId": "6567710c-4c9c-4758-b997-fe60030ae6a7"
      },
      "source": [
        "history = model.fit(x_train, y_train, epochs=20, batch_size=1)"
      ],
      "execution_count": 15,
      "outputs": [
        {
          "output_type": "stream",
          "text": [
            "Epoch 1/20\n",
            "284/284 [==============================] - 1s 1ms/step - loss: 0.3911 - accuracy: 0.8821\n",
            "Epoch 2/20\n",
            "284/284 [==============================] - 0s 1ms/step - loss: 0.1475 - accuracy: 0.9608\n",
            "Epoch 3/20\n",
            "284/284 [==============================] - 0s 1ms/step - loss: 0.0727 - accuracy: 0.9715\n",
            "Epoch 4/20\n",
            "284/284 [==============================] - 0s 1ms/step - loss: 0.0697 - accuracy: 0.9821\n",
            "Epoch 5/20\n",
            "284/284 [==============================] - 0s 993us/step - loss: 0.0424 - accuracy: 0.9886\n",
            "Epoch 6/20\n",
            "284/284 [==============================] - 0s 1ms/step - loss: 0.0268 - accuracy: 0.9965\n",
            "Epoch 7/20\n",
            "284/284 [==============================] - 0s 1ms/step - loss: 0.0392 - accuracy: 0.9914\n",
            "Epoch 8/20\n",
            "284/284 [==============================] - 0s 1ms/step - loss: 0.0346 - accuracy: 0.9933\n",
            "Epoch 9/20\n",
            "284/284 [==============================] - 0s 1ms/step - loss: 0.0298 - accuracy: 0.9924\n",
            "Epoch 10/20\n",
            "284/284 [==============================] - 0s 987us/step - loss: 0.0140 - accuracy: 0.9965\n",
            "Epoch 11/20\n",
            "284/284 [==============================] - 0s 1ms/step - loss: 0.0170 - accuracy: 0.9956\n",
            "Epoch 12/20\n",
            "284/284 [==============================] - 0s 1ms/step - loss: 0.0108 - accuracy: 0.9997\n",
            "Epoch 13/20\n",
            "284/284 [==============================] - 0s 1ms/step - loss: 0.0193 - accuracy: 0.9980\n",
            "Epoch 14/20\n",
            "284/284 [==============================] - 0s 1ms/step - loss: 0.0164 - accuracy: 0.9954\n",
            "Epoch 15/20\n",
            "284/284 [==============================] - 0s 978us/step - loss: 0.0136 - accuracy: 0.9956\n",
            "Epoch 16/20\n",
            "284/284 [==============================] - 0s 1ms/step - loss: 0.0094 - accuracy: 0.9972\n",
            "Epoch 17/20\n",
            "284/284 [==============================] - 0s 1ms/step - loss: 0.0044 - accuracy: 0.9998\n",
            "Epoch 18/20\n",
            "284/284 [==============================] - 0s 1ms/step - loss: 0.0066 - accuracy: 0.9993\n",
            "Epoch 19/20\n",
            "284/284 [==============================] - 0s 1ms/step - loss: 0.0071 - accuracy: 0.9965\n",
            "Epoch 20/20\n",
            "284/284 [==============================] - 0s 1ms/step - loss: 0.0071 - accuracy: 0.9957\n"
          ],
          "name": "stdout"
        }
      ]
    },
    {
      "cell_type": "code",
      "metadata": {
        "id": "3eDrAMuE1Q1O"
      },
      "source": [
        ""
      ],
      "execution_count": 15,
      "outputs": []
    }
  ]
}
